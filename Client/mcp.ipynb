{
 "cells": [
  {
   "cell_type": "markdown",
   "id": "f260b9bd",
   "metadata": {},
   "source": [
    "Description:\n",
    " - This notebook demonstrates a Foundry agent that connects to a sample MCP server.\n",
    " \n",
    " Setup:\n",
    " - For notebook prerequisites, please see: https://code.visualstudio.com/docs/languages/polyglot\n",
    " - In the \"//Create a project client\" cell, replace \"YOUR-FOUNDARY-PROJECT-ENDPOINT\" with your Foundry project endpoint URL.\n",
    " - Set the execution environment for this notebook to .NET Interactive.\n",
    " \n",
    " Run:\n",
    " - To run, execute each cell in order.\n",
    "\n",
    " Repo Structure\n",
    " --------------\n",
    " This notebook is part of a repo that has two folders:\n",
    "\n",
    "  - Client: This folder. Contains this notebook.\n",
    "  \n",
    "  - Server: GitHub repo that implements an MCP server as an Azure Function. The initial version gets the weather using MCP. I have modified this repo to add pizza ordering functionality. See Server/Readme.txt for details on the server component."
   ]
  },
  {
   "cell_type": "code",
   "execution_count": null,
   "id": "f36ab807",
   "metadata": {
    "language_info": {
     "name": "polyglot-notebook"
    },
    "polyglot_notebook": {
     "kernelName": "csharp"
    }
   },
   "outputs": [],
   "source": [
    "// Add NuGet package references.\n",
    "#r \"nuget: Azure.AI.Agents.Persistent, 1.2.0-beta.5\"\n",
    "#r \"nuget: Azure.Identity, 1.12.1\""
   ]
  },
  {
   "cell_type": "code",
   "execution_count": null,
   "id": "a582f474",
   "metadata": {
    "language_info": {
     "name": "polyglot-notebook"
    },
    "polyglot_notebook": {
     "kernelName": "csharp"
    }
   },
   "outputs": [],
   "source": [
    "// Add using statements.\n",
    "using Azure.AI.Agents.Persistent;\n",
    "using Azure.Identity;\n",
    "using Azure;\n",
    "using System;\n",
    "using System.Collections.Generic;\n",
    "using System.Threading;"
   ]
  },
  {
   "cell_type": "code",
   "execution_count": null,
   "id": "0394015e",
   "metadata": {
    "language_info": {
     "name": "polyglot-notebook"
    },
    "polyglot_notebook": {
     "kernelName": "csharp"
    }
   },
   "outputs": [],
   "source": [
    "//Create a project client\n",
    "var PROJECT_ENDPOINT        = \"YOUR-FOUNDARY-PROJECT-ENDPOINT\";      //TODO!: Create a Foundry project and get the endpoint URL.\n",
    "var MODEL_DEPLOYMENT_NAME   = \"gpt-4.1\";\n",
    "var MCP_SERVER_URL          = \"https://learn.microsoft.com/api/mcp\"; //URL to sample MCP server.\n",
    "var MCP_SERVER_LABEL        = \"GitHub_mcp_server_label\";             //MCP server friendly name.\n",
    "\n",
    "var projectEndpoint         = PROJECT_ENDPOINT;\n",
    "var modelDeploymentName     = MODEL_DEPLOYMENT_NAME;\n",
    "var mcpServerUrl            = MCP_SERVER_URL;\n",
    "var mcpServerLabel          = MCP_SERVER_LABEL;\n",
    "\n",
    "PersistentAgentsClient agentClient = new(projectEndpoint, new DefaultAzureCredential());"
   ]
  },
  {
   "cell_type": "code",
   "execution_count": null,
   "metadata": {
    "language_info": {
     "name": "polyglot-notebook"
    },
    "polyglot_notebook": {
     "kernelName": "csharp"
    }
   },
   "outputs": [],
   "source": [
    "// Create MCP tool definition\n",
    "MCPToolDefinition mcpTool = new(mcpServerLabel, mcpServerUrl);\n",
    "\n",
    "// Configure allowed tools (optional)\n",
    "string searchApiCode = \"search_azure_rest_api_code\";\n",
    "mcpTool.AllowedTools.Add(searchApiCode);"
   ]
  },
  {
   "cell_type": "code",
   "execution_count": null,
   "metadata": {
    "language_info": {
     "name": "polyglot-notebook"
    },
    "polyglot_notebook": {
     "kernelName": "csharp"
    }
   },
   "outputs": [],
   "source": [
    "//Use the MCPToolDefinition during the agent initialization.\n",
    "\n",
    "//create a unique identifier for the agent name\n",
    "var agentname = \"my-mcp-agent-\" + DateTime.UtcNow.ToString(\"yyyy-MM-dd_HH:mm\");\n",
    " \n",
    "PersistentAgent agent = agentClient.Administration.CreateAgent(\n",
    "   model: modelDeploymentName,\n",
    "   name: agentname,\n",
    "   //instructions: \"You are a helpful agent that can use MCP tools to assist users. Use the available MCP tools to answer questions and perform tasks.\",\n",
    "   instructions: \"You are a helpful agent.\",\n",
    "   tools: [mcpTool]);"
   ]
  },
  {
   "cell_type": "code",
   "execution_count": null,
   "metadata": {
    "language_info": {
     "name": "polyglot-notebook"
    },
    "polyglot_notebook": {
     "kernelName": "csharp"
    }
   },
   "outputs": [],
   "source": [
    "//Create a thread and add a message.\n",
    "\n",
    "PersistentAgentThread thread = agentClient.Threads.CreateThread();\n",
    "\n",
    "// Create message to thread\n",
    "PersistentThreadMessage message = agentClient.Messages.CreateMessage(\n",
    "    thread.Id,\n",
    "    MessageRole.User,\n",
    "    \"Please summarize the Azure REST API specifications Readme\");\n",
    "\n",
    "MCPToolResource mcpToolResource = new(mcpServerLabel);\n",
    "mcpToolResource.UpdateHeader(\"SuperSecret\", \"123456\");\n",
    "ToolResources toolResources = mcpToolResource.ToToolResources();\n",
    "\n",
    "// Run the agent with MCP tool resources\n",
    "ThreadRun run = agentClient.Runs.CreateRun(thread, agent, toolResources);\n",
    "\n",
    "// Handle run execution and tool approvals\n",
    "while (run.Status == RunStatus.Queued || run.Status == RunStatus.InProgress || run.Status == RunStatus.RequiresAction)\n",
    "{\n",
    "    Thread.Sleep(TimeSpan.FromMilliseconds(1000));\n",
    "    run = agentClient.Runs.GetRun(thread.Id, run.Id);\n",
    "\n",
    "    if (run.Status == RunStatus.RequiresAction && run.RequiredAction is SubmitToolApprovalAction toolApprovalAction)\n",
    "    {\n",
    "        var toolApprovals = new List<ToolApproval>();\n",
    "        foreach (var toolCall in toolApprovalAction.SubmitToolApproval.ToolCalls)\n",
    "        {\n",
    "            if (toolCall is RequiredMcpToolCall mcpToolCall)\n",
    "            {\n",
    "                Console.WriteLine($\"Approving MCP tool call: {mcpToolCall.Name}, Arguments: {mcpToolCall.Arguments}\");\n",
    "                toolApprovals.Add(new ToolApproval(mcpToolCall.Id, approve: true)\n",
    "                {\n",
    "                    Headers = { [\"SuperSecret\"] = \"123456\" }\n",
    "                });\n",
    "            }\n",
    "        }\n",
    "\n",
    "        if (toolApprovals.Count > 0)\n",
    "        {\n",
    "            run = agentClient.Runs.SubmitToolOutputsToRun(thread.Id, run.Id, toolApprovals: toolApprovals);\n",
    "        }\n",
    "    }\n",
    "}"
   ]
  },
  {
   "cell_type": "code",
   "execution_count": null,
   "metadata": {
    "language_info": {
     "name": "polyglot-notebook"
    },
    "polyglot_notebook": {
     "kernelName": "csharp"
    }
   },
   "outputs": [],
   "source": [
    "//Print the messages to the console.\n",
    "//Note: C# notebooks do not handle streaming responses, the response occurs all at once after the call is complete.\n",
    "\n",
    "Pageable<PersistentThreadMessage> messages = agentClient.Messages.GetMessages(\n",
    "    threadId: thread.Id,\n",
    "    order: ListSortOrder.Ascending\n",
    ");\n",
    "\n",
    "foreach (PersistentThreadMessage threadMessage in messages)\n",
    "{\n",
    "    Console.Write($\"{threadMessage.CreatedAt:yyyy-MM-dd HH:mm:ss} - {threadMessage.Role,10}: \");\n",
    "    foreach (MessageContent contentItem in threadMessage.ContentItems)\n",
    "    {\n",
    "        if (contentItem is MessageTextContent textItem)\n",
    "        {\n",
    "            Console.Write(textItem.Text);\n",
    "        }\n",
    "        else if (contentItem is MessageImageFileContent imageFileItem)\n",
    "        {\n",
    "            Console.Write($\"<image from ID: {imageFileItem.FileId}>\");\n",
    "        }\n",
    "        Console.WriteLine();\n",
    "    }\n",
    "}"
   ]
  },
  {
   "cell_type": "code",
   "execution_count": null,
   "metadata": {
    "language_info": {
     "name": "polyglot-notebook"
    },
    "polyglot_notebook": {
     "kernelName": "csharp"
    }
   },
   "outputs": [],
   "source": [
    "//Optional: Delete the agent.\n",
    "//When running the notebook, I suggest deleting the agent each time (each run will create a new agent.)\n",
    "//Use the Azure AI Foundry Extension to view your projects, models, agents, threads, etc.\n",
    "\n",
    "agentClient.Threads.DeleteThread(threadId: thread.Id);\n",
    "agentClient.Administration.DeleteAgent(agentId: agent.Id);"
   ]
  }
 ],
 "metadata": {
  "kernelspec": {
   "display_name": ".NET (C#)",
   "language": "C#",
   "name": ".net-csharp"
  },
  "language_info": {
   "name": "polyglot-notebook"
  },
  "polyglot_notebook": {
   "kernelInfo": {
    "defaultKernelName": "csharp",
    "items": [
     {
      "aliases": [],
      "name": "csharp"
     }
    ]
   }
  }
 },
 "nbformat": 4,
 "nbformat_minor": 5
}
